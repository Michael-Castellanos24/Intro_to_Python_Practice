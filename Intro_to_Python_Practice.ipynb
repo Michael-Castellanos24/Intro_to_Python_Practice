{
 "cells": [
  {
   "cell_type": "code",
   "execution_count": 19,
   "id": "f2d79481-83c7-4dbb-a378-f7acbff0eb0a",
   "metadata": {},
   "outputs": [
    {
     "name": "stdout",
     "output_type": "stream",
     "text": [
      "24 <class 'int'>\n",
      "8.1 <class 'float'>\n",
      "Japan <class 'str'>\n",
      "False <class 'bool'>\n",
      "LAST WEEKEND I VISITED BOSTON\n",
      "Last weekend I visited Massachusetts\n",
      "True\n",
      "19 -5 84 0.5833333333333334 7 13841287201\n",
      "True False False True False True\n",
      "True False True\n",
      "New Jersey\n",
      "24\n",
      "30\n",
      "0.043557168784029036\n"
     ]
    }
   ],
   "source": [
    "#Michael Castellanos\n",
    "#DAB July 2025\n",
    "#Intro to Python Practice \n",
    "\n",
    "\n",
    "#Task 1: Variable Declarations & Data Types\n",
    "int_var = 24\n",
    "float_var = 8.1\n",
    "string_var = \"Japan\"\n",
    "boolean_var = False\n",
    "\n",
    "print(int_var, type(int_var))\n",
    "print(float_var, type(float_var))\n",
    "print(string_var, type(string_var))\n",
    "print(boolean_var, type(boolean_var))\n",
    "\n",
    "#Task 2: String Manipulation\n",
    "\n",
    "sample_string = \"Last weekend I visited Boston\"\n",
    "print(sample_string.upper()) #converts to uppercase\n",
    "print(sample_string.replace(\"Boston\",\"Massachusetts\")) #replaces \"Boston\" with \"Massachusetts\"\n",
    "print(sample_string.endswith(\"Boston\")) #determines if the string ends with \"Boston\"\n",
    "\n",
    "#Task 3: Basic Operations\n",
    "a = 7\n",
    "b = 12\n",
    "\n",
    "print(a + b, a - b, a * b, a / b, a % b, a ** b) #Arithmatic\n",
    "print(a < b, a > b, a == b, a != b, a >= b, a <= b) #Comparison\n",
    "print(a > 5 and b < 16, a < 5 or b > 16, not (a == b)) #Logical\n",
    "\n",
    "#Task 4: Data Collections\n",
    "\n",
    "num_list = [\"New Jersey\", \"New York\", \"California\", \"Florida\", \"Texas\"]\n",
    "my_dict = {\"name\": \"Michael\", \"age\": 24}\n",
    "my_tuple = (10, 20, 30)\n",
    "\n",
    "print(num_list[0])\n",
    "print(my_dict[\"age\"])\n",
    "print(my_tuple[2])\n",
    "\n",
    "#Task 5: Expression Combination\n",
    "result = (int_var / (a + b)) / len(sample_string) \n",
    "print(result)"
   ]
  },
  {
   "cell_type": "code",
   "execution_count": null,
   "id": "f2711c4e-77a1-4a3e-b4cd-8462358ef4e0",
   "metadata": {},
   "outputs": [],
   "source": []
  },
  {
   "cell_type": "code",
   "execution_count": null,
   "id": "262df030-b460-4c82-9a84-dfcc1551fdf4",
   "metadata": {},
   "outputs": [],
   "source": []
  }
 ],
 "metadata": {
  "kernelspec": {
   "display_name": "Python [conda env:base] *",
   "language": "python",
   "name": "conda-base-py"
  },
  "language_info": {
   "codemirror_mode": {
    "name": "ipython",
    "version": 3
   },
   "file_extension": ".py",
   "mimetype": "text/x-python",
   "name": "python",
   "nbconvert_exporter": "python",
   "pygments_lexer": "ipython3",
   "version": "3.13.5"
  }
 },
 "nbformat": 4,
 "nbformat_minor": 5
}
